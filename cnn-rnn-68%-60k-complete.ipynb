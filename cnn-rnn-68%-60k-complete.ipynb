{
 "cells": [
  {
   "cell_type": "code",
   "execution_count": 33,
   "metadata": {},
   "outputs": [],
   "source": [
    "from keras.applications.xception import Xception\n",
    "from keras.applications import ResNet50V2\n",
    "from keras.callbacks import ModelCheckpoint\n",
    "from keras.engine import Input\n",
    "from keras.layers import GlobalAveragePooling2D, Dense, Reshape, Lambda, LSTM\n",
    "from keras.preprocessing.image import ImageDataGenerator\n",
    "from keras.models import Model\n",
    "from keras.callbacks import TensorBoard\n",
    "from keras.optimizers import Adam\n",
    "from keras.layers import merge\n",
    "import time\n",
    "import numpy as np\n",
    "\n",
    "np.random.seed(1337)"
   ]
  },
  {
   "cell_type": "code",
   "execution_count": 35,
   "metadata": {},
   "outputs": [],
   "source": [
    "import keras\n",
    "import keras.utils\n",
    "import tensorflow as tf\n",
    "from tensorflow.keras import datasets, layers, models"
   ]
  },
  {
   "cell_type": "code",
   "execution_count": 3,
   "metadata": {},
   "outputs": [],
   "source": [
    "import tensorflow as tf\n",
    "import sys\n",
    "import os"
   ]
  },
  {
   "cell_type": "code",
   "execution_count": 4,
   "metadata": {},
   "outputs": [],
   "source": [
    "train_datagen = ImageDataGenerator(\n",
    "    validation_split=0.3)"
   ]
  },
  {
   "cell_type": "code",
   "execution_count": 5,
   "metadata": {},
   "outputs": [
    {
     "data": {
      "text/plain": [
       "['D:/200X200\\\\cloudy',\n",
       " 'D:/200X200\\\\haze',\n",
       " 'D:/200X200\\\\rainy',\n",
       " 'D:/200X200\\\\snow',\n",
       " 'D:/200X200\\\\sunny',\n",
       " 'D:/200X200\\\\thunder']"
      ]
     },
     "execution_count": 5,
     "metadata": {},
     "output_type": "execute_result"
    }
   ],
   "source": [
    "dirname = 'D:/200X200'\n",
    "dir_chess_folders = os.listdir(dirname)\n",
    "dir_chess_paths = [os.path.join(dirname, path) for path in dir_chess_folders]\n",
    "dir_chess_paths"
   ]
  },
  {
   "cell_type": "code",
   "execution_count": 6,
   "metadata": {},
   "outputs": [],
   "source": [
    "batch_size_phase_one = 32\n",
    "batch_size_phase_two = 16\n",
    "nb_val_samples = 100\n",
    "\n",
    "nb_epochs = 5\n",
    "\n",
    "img_width = 200\n",
    "img_height = 200"
   ]
  },
  {
   "cell_type": "code",
   "execution_count": 7,
   "metadata": {},
   "outputs": [],
   "source": [
    "def get_training_generator_test(batch_size=128):\n",
    "    train_generator_test = train_datagen.flow_from_directory(\n",
    "    dirname,\n",
    "    target_size=(img_width, img_height),\n",
    "    class_mode='categorical',\n",
    "    subset='training',\n",
    "    batch_size=batch_size)\n",
    "\n",
    "    val_generator_test = train_datagen.flow_from_directory(\n",
    "    dirname,\n",
    "    target_size=(img_width, img_height),\n",
    "    batch_size=batch_size,\n",
    "    class_mode='categorical',\n",
    "    subset='validation',\n",
    "    shuffle=False,)\n",
    "    return train_generator_test, val_generator_test"
   ]
  },
  {
   "cell_type": "code",
   "execution_count": 8,
   "metadata": {},
   "outputs": [
    {
     "name": "stdout",
     "output_type": "stream",
     "text": [
      "Loading the dataset with batch size of 32...\n",
      "Found 42000 images belonging to 6 classes.\n",
      "Found 18000 images belonging to 6 classes.\n",
      "Dataset loaded\n",
      "Building model...\n"
     ]
    }
   ],
   "source": [
    "# Loading dataset\n",
    "print(\"Loading the dataset with batch size of {}...\".format(batch_size_phase_one))\n",
    "train_generator_test, val_generator_test = get_training_generator_test(batch_size_phase_one)\n",
    "print(\"Dataset loaded\")\n",
    "\n",
    "print(\"Building model...\")\n",
    "input_tensor = Input(shape=(img_width, img_height, 3))"
   ]
  },
  {
   "cell_type": "code",
   "execution_count": 9,
   "metadata": {},
   "outputs": [
    {
     "name": "stdout",
     "output_type": "stream",
     "text": [
      "WARNING:tensorflow:From C:\\Users\\deepchand\\Anaconda3\\lib\\site-packages\\keras\\backend\\tensorflow_backend.py:4070: The name tf.nn.max_pool is deprecated. Please use tf.nn.max_pool2d instead.\n",
      "\n"
     ]
    }
   ],
   "source": [
    "# Creating CNN\n",
    "cnn_model = ResNet50V2(weights='imagenet', include_top=False, input_tensor=input_tensor)\n",
    "x = cnn_model.output\n",
    "cnn_bottleneck = GlobalAveragePooling2D()(x)"
   ]
  },
  {
   "cell_type": "code",
   "execution_count": 10,
   "metadata": {},
   "outputs": [],
   "source": [
    "# Make CNN layers not trainable\n",
    "for layer in cnn_model.layers:\n",
    "    layer.trainable = False"
   ]
  },
  {
   "cell_type": "code",
   "execution_count": 11,
   "metadata": {},
   "outputs": [],
   "source": [
    "# Creating RNN\n",
    "x=input_tensor\n",
    "x = Reshape((30, 4000))(x)  # 23 timesteps, input dim of each timestep 3887\n",
    "x = LSTM(2048, return_sequences=True)(x)\n",
    "rnn_output = LSTM(2048)(x)"
   ]
  },
  {
   "cell_type": "code",
   "execution_count": 12,
   "metadata": {},
   "outputs": [
    {
     "name": "stdout",
     "output_type": "stream",
     "text": [
      "Model built\n"
     ]
    },
    {
     "name": "stderr",
     "output_type": "stream",
     "text": [
      "C:\\Users\\deepchand\\Anaconda3\\lib\\site-packages\\ipykernel_launcher.py:5: UserWarning: Update your `Model` call to the Keras 2 API: `Model(inputs=Tensor(\"in..., outputs=Tensor(\"de...)`\n",
      "  \"\"\"\n"
     ]
    }
   ],
   "source": [
    "# Merging both cnn bottleneck and rnn's output wise element wise multiplication\n",
    "x = keras.layers.concatenate([cnn_bottleneck, rnn_output])\n",
    "predictions = Dense(6, activation='softmax')(x)\n",
    "\n",
    "model = Model(input=input_tensor, output=predictions)\n",
    "\n",
    "print(\"Model built\")"
   ]
  },
  {
   "cell_type": "code",
   "execution_count": 13,
   "metadata": {},
   "outputs": [],
   "source": [
    "from keras.callbacks import ReduceLROnPlateau"
   ]
  },
  {
   "cell_type": "code",
   "execution_count": 14,
   "metadata": {},
   "outputs": [],
   "source": [
    "learning_rate_reduction = ReduceLROnPlateau(monitor='val_accuracy', \n",
    "                                            patience=2, \n",
    "                                            verbose=1, \n",
    "                                            factor=0.5, \n",
    "                                            min_lr=0.0005) \n",
    "callback = [learning_rate_reduction]"
   ]
  },
  {
   "cell_type": "code",
   "execution_count": 15,
   "metadata": {},
   "outputs": [
    {
     "name": "stdout",
     "output_type": "stream",
     "text": [
      "Starting training\n"
     ]
    },
    {
     "name": "stderr",
     "output_type": "stream",
     "text": [
      "C:\\Users\\deepchand\\Anaconda3\\lib\\site-packages\\ipykernel_launcher.py:6: UserWarning: The semantics of the Keras 2 argument `steps_per_epoch` is not the same as the Keras 1 argument `samples_per_epoch`. `steps_per_epoch` is the number of batches to draw from the generator at each epoch. Basically steps_per_epoch = samples_per_epoch/batch_size. Similarly `nb_val_samples`->`validation_steps` and `val_samples`->`steps` arguments have changed. Update your method calls accordingly.\n",
      "  \n",
      "C:\\Users\\deepchand\\Anaconda3\\lib\\site-packages\\ipykernel_launcher.py:6: UserWarning: Update your `fit_generator` call to the Keras 2 API: `fit_generator(<keras.pre..., verbose=1, validation_data=<keras.pre..., callbacks=[<keras.ca..., steps_per_epoch=3, epochs=5, validation_steps=100)`\n",
      "  \n"
     ]
    },
    {
     "name": "stdout",
     "output_type": "stream",
     "text": [
      "WARNING:tensorflow:From C:\\Users\\deepchand\\Anaconda3\\lib\\site-packages\\keras\\backend\\tensorflow_backend.py:422: The name tf.global_variables is deprecated. Please use tf.compat.v1.global_variables instead.\n",
      "\n",
      "Epoch 1/5\n",
      "3/3 [==============================] - 725s 242s/step - loss: 7.3481 - accuracy: 0.1667 - val_loss: 3.2179 - val_accuracy: 0.0394\n",
      "Epoch 2/5\n",
      "3/3 [==============================] - 733s 244s/step - loss: 4.5501 - accuracy: 0.2083 - val_loss: 111.5144 - val_accuracy: 0.0397\n",
      "Epoch 3/5\n",
      "3/3 [==============================] - 724s 241s/step - loss: 1.8499 - accuracy: 0.2500 - val_loss: 33.2367 - val_accuracy: 0.0078\n",
      "Epoch 4/5\n",
      "3/3 [==============================] - 723s 241s/step - loss: 1.8734 - accuracy: 0.2604 - val_loss: 1.7018 - val_accuracy: 0.2125\n",
      "Epoch 5/5\n",
      "3/3 [==============================] - 726s 242s/step - loss: 1.7258 - accuracy: 0.2708 - val_loss: 118.1530 - val_accuracy: 0.1091\n",
      "Initial training done, starting phase two (finetuning)\n"
     ]
    }
   ],
   "source": [
    "model.compile(optimizer='rmsprop', loss='categorical_crossentropy',metrics=['accuracy'])\n",
    "\n",
    "print(\"Starting training\")\n",
    "final_model=model.fit_generator(train_generator_test, samples_per_epoch=100, nb_epoch=nb_epochs, verbose=1,\n",
    "                    validation_data=val_generator_test,\n",
    "                    nb_val_samples=nb_val_samples,callbacks=callback)\n",
    "\n",
    "print(\"Initial training done, starting phase two (finetuning)\")"
   ]
  },
  {
   "cell_type": "code",
   "execution_count": 16,
   "metadata": {},
   "outputs": [],
   "source": [
    "model.save('hopefinal2final.hdf5')"
   ]
  },
  {
   "cell_type": "code",
   "execution_count": 17,
   "metadata": {},
   "outputs": [
    {
     "name": "stdout",
     "output_type": "stream",
     "text": [
      "Loading the dataset with batch size of 16...\n",
      "Found 42000 images belonging to 6 classes.\n",
      "Found 18000 images belonging to 6 classes.\n",
      "Dataset loaded\n"
     ]
    }
   ],
   "source": [
    "# Load two new generator with smaller batch size, needed because using the same batch size\n",
    "# for the fine tuning will result in GPU running out of memory and tensorflow raising an error\n",
    "print(\"Loading the dataset with batch size of {}...\".format(batch_size_phase_two))\n",
    "train_generator_test, val_generator_test = get_training_generator_test(batch_size_phase_two)\n",
    "print(\"Dataset loaded\")"
   ]
  },
  {
   "cell_type": "code",
   "execution_count": 18,
   "metadata": {},
   "outputs": [],
   "source": [
    "# Load best weights from initial training\n",
    "model.load_weights('hopefinal2final.hdf5')"
   ]
  },
  {
   "cell_type": "code",
   "execution_count": 19,
   "metadata": {},
   "outputs": [],
   "source": [
    "# Make all layers trainable for finetuning\n",
    "for layer in model.layers:\n",
    "    layer.trainable = True"
   ]
  },
  {
   "cell_type": "code",
   "execution_count": 20,
   "metadata": {},
   "outputs": [
    {
     "name": "stderr",
     "output_type": "stream",
     "text": [
      "C:\\Users\\deepchand\\Anaconda3\\lib\\site-packages\\ipykernel_launcher.py:7: UserWarning: The semantics of the Keras 2 argument `steps_per_epoch` is not the same as the Keras 1 argument `samples_per_epoch`. `steps_per_epoch` is the number of batches to draw from the generator at each epoch. Basically steps_per_epoch = samples_per_epoch/batch_size. Similarly `nb_val_samples`->`validation_steps` and `val_samples`->`steps` arguments have changed. Update your method calls accordingly.\n",
      "  import sys\n",
      "C:\\Users\\deepchand\\Anaconda3\\lib\\site-packages\\ipykernel_launcher.py:7: UserWarning: Update your `fit_generator` call to the Keras 2 API: `fit_generator(<keras.pre..., verbose=1, validation_data=<keras.pre..., callbacks=[<keras.ca..., steps_per_epoch=15, epochs=5, validation_steps=100)`\n",
      "  import sys\n"
     ]
    },
    {
     "name": "stdout",
     "output_type": "stream",
     "text": [
      "Epoch 1/5\n",
      "15/15 [==============================] - 836s 56s/step - loss: 1.5067 - accuracy: 0.4500 - top_k_categorical_accuracy: 0.9542 - val_loss: 4.9281 - val_accuracy: 0.0000e+00 - val_top_k_categorical_accuracy: 0.0644\n",
      "Epoch 2/5\n",
      "15/15 [==============================] - 695s 46s/step - loss: 1.1971 - accuracy: 0.5750 - top_k_categorical_accuracy: 0.9875 - val_loss: 2.4009 - val_accuracy: 0.0044 - val_top_k_categorical_accuracy: 0.3631\n",
      "Epoch 3/5\n",
      "15/15 [==============================] - 684s 46s/step - loss: 1.0016 - accuracy: 0.6250 - top_k_categorical_accuracy: 0.9958 - val_loss: 1.6380 - val_accuracy: 0.1838 - val_top_k_categorical_accuracy: 0.9787\n",
      "Epoch 4/5\n",
      "15/15 [==============================] - 690s 46s/step - loss: 1.0127 - accuracy: 0.6000 - top_k_categorical_accuracy: 0.9875 - val_loss: 0.9355 - val_accuracy: 0.4094 - val_top_k_categorical_accuracy: 0.9613\n",
      "Epoch 5/5\n",
      "15/15 [==============================] - 684s 46s/step - loss: 0.9090 - accuracy: 0.6750 - top_k_categorical_accuracy: 0.9958 - val_loss: 1.1647 - val_accuracy: 0.6650 - val_top_k_categorical_accuracy: 0.9925\n"
     ]
    }
   ],
   "source": [
    "model.compile(optimizer=Adam(lr=0.0001), loss='categorical_crossentropy',\n",
    "              metrics=['accuracy', 'top_k_categorical_accuracy'])\n",
    "\n",
    "history=model.fit_generator(train_generator_test, samples_per_epoch=240, nb_epoch=5, verbose=1,\n",
    "                    validation_data=val_generator_test,\n",
    "                    nb_val_samples=nb_val_samples,\n",
    "                    callbacks=callback)"
   ]
  },
  {
   "cell_type": "code",
   "execution_count": 21,
   "metadata": {},
   "outputs": [],
   "source": [
    "model.save('cnn_rnn_67_modelfinal.hdf5')"
   ]
  },
  {
   "cell_type": "code",
   "execution_count": 22,
   "metadata": {},
   "outputs": [
    {
     "data": {
      "image/png": "[encoded data removed]",
      "text/plain": [
       "<Figure size 432x288 with 1 Axes>"
      ]
     },
     "metadata": {
      "needs_background": "light"
     },
     "output_type": "display_data"
    },
    {
     "data": {
      "image/png": "[encoded data removed]",
      "text/plain": [
       "<Figure size 432x288 with 1 Axes>"
      ]
     },
     "metadata": {
      "needs_background": "light"
     },
     "output_type": "display_data"
    }
   ],
   "source": [
    "plt.plot(history.history['accuracy'])\n",
    "plt.plot(history.history['val_accuracy'])\n",
    "plt.title('Model accuracy')\n",
    "plt.ylabel('Accuracy')\n",
    "plt.xlabel('Epoch')\n",
    "plt.legend(['Train', 'Test'], loc='upper left')\n",
    "plt.show()\n",
    "\n",
    "# Plot training & validation loss values\n",
    "plt.plot(history.history['loss'])\n",
    "plt.plot(history.history['val_loss'])\n",
    "plt.title('Model loss')\n",
    "plt.ylabel('Loss')\n",
    "plt.xlabel('Epoch')\n",
    "plt.legend(['Train', 'Test'], loc='upper left')\n",
    "plt.show()"
   ]
  },
  {
   "cell_type": "code",
   "execution_count": 23,
   "metadata": {},
   "outputs": [],
   "source": [
    "from sklearn.metrics import classification_report, confusion_matrix\n",
    "import imageio\n",
    "import seaborn as sns\n",
    "import matplotlib as mpl\n",
    "import matplotlib.pyplot as plt\n",
    "import matplotlib.image as mpimg"
   ]
  },
  {
   "cell_type": "code",
   "execution_count": 24,
   "metadata": {},
   "outputs": [
    {
     "name": "stdout",
     "output_type": "stream",
     "text": [
      "1125/1125 [==============================] - 4173s 4s/step\n"
     ]
    }
   ],
   "source": [
    "num_of_test_samples = 18000 \n",
    "#Confution Matrix and Classification Report\n",
    "Y_pred = model.predict_generator(val_generator_test, num_of_test_samples // batch_size_phase_two,verbose=1)\n",
    "y_pred = np.argmax(Y_pred, axis=1)\n",
    "matrix1 = confusion_matrix(val_generator_test.classes, y_pred)"
   ]
  },
  {
   "cell_type": "code",
   "execution_count": 26,
   "metadata": {},
   "outputs": [
    {
     "name": "stdout",
     "output_type": "stream",
     "text": [
      "\n",
      "Classification Report\n",
      "              precision    recall  f1-score   support\n",
      "\n",
      "      cloudy       0.41      0.21      0.28      3000\n",
      "        haze       0.80      0.39      0.53      3000\n",
      "        snow       0.59      0.66      0.62      3000\n",
      "       rainy       0.52      0.79      0.63      3000\n",
      "     thunder       0.45      0.61      0.52      3000\n",
      "       sunny       0.89      0.91      0.90      3000\n",
      "\n",
      "    accuracy                           0.59     18000\n",
      "   macro avg       0.61      0.60      0.58     18000\n",
      "weighted avg       0.61      0.59      0.58     18000\n",
      "\n"
     ]
    }
   ],
   "source": [
    "print('\\nClassification Report')\n",
    "target_names = ['cloudy',\n",
    "                 'haze',\n",
    "                 'snow',\n",
    "                 'rainy',\n",
    "                 'thunder',\n",
    "                 'sunny']\n",
    "class_report = classification_report(val_generator_test.classes, y_pred, target_names=target_names)\n",
    "print(class_report)"
   ]
  },
  {
   "cell_type": "code",
   "execution_count": 29,
   "metadata": {},
   "outputs": [],
   "source": [
    "#[row, column]\n",
    "TP = matrix1[1, 1]\n",
    "TN = matrix1[0, 0]\n",
    "FP = matrix1[0, 1]\n",
    "FN = matrix1[1, 0]"
   ]
  },
  {
   "cell_type": "markdown",
   "metadata": {},
   "source": [
    "## Classification Error: Overall, how often is the classifier incorrect?"
   ]
  },
  {
   "cell_type": "code",
   "execution_count": 32,
   "metadata": {},
   "outputs": [
    {
     "name": "stdout",
     "output_type": "stream",
     "text": [
      "0.11715686274509804\n",
      "0.405\n"
     ]
    }
   ],
   "source": [
    "classification_error = (FP + FN) / float(TP + TN + FP + FN)\n",
    "\n",
    "print(classification_error)\n",
    "print(1 - metrics.accuracy_score(val_generator_test.classes, y_pred))"
   ]
  },
  {
   "cell_type": "code",
   "execution_count": 31,
   "metadata": {},
   "outputs": [],
   "source": [
    "from sklearn import metrics"
   ]
  },
  {
   "cell_type": "markdown",
   "metadata": {},
   "source": [
    "## Sensitivity: When the actual value is positive, how often is the prediction correct?"
   ]
  },
  {
   "cell_type": "code",
   "execution_count": 34,
   "metadata": {},
   "outputs": [
    {
     "name": "stdout",
     "output_type": "stream",
     "text": [
      "0.8962121212121212\n",
      "0.595\n"
     ]
    }
   ],
   "source": [
    "sensitivity = TP / float(FN + TP)\n",
    "\n",
    "print(sensitivity)\n",
    "print(metrics.recall_score(val_generator_test.classes, y_pred,average='micro'))"
   ]
  },
  {
   "cell_type": "markdown",
   "metadata": {},
   "source": [
    "## Specificity: When the actual value is negative, how often is the prediction correct?"
   ]
  },
  {
   "cell_type": "code",
   "execution_count": 35,
   "metadata": {},
   "outputs": [
    {
     "name": "stdout",
     "output_type": "stream",
     "text": [
      "0.8583333333333333\n"
     ]
    }
   ],
   "source": [
    "specificity = TN / (TN + FP)\n",
    "\n",
    "print(specificity)\n"
   ]
  },
  {
   "cell_type": "markdown",
   "metadata": {},
   "source": [
    "## Confusion matrix"
   ]
  },
  {
   "cell_type": "code",
   "execution_count": 52,
   "metadata": {},
   "outputs": [],
   "source": [
    "cn=metrics.confusion_matrix(val_generator_test.classes, y_pred)"
   ]
  },
  {
   "cell_type": "code",
   "execution_count": 57,
   "metadata": {},
   "outputs": [
    {
     "name": "stdout",
     "output_type": "stream",
     "text": [
      "[[ 618  102  635  475 1141   29]\n",
      " [ 137 1183  216  802  532  130]\n",
      " [ 280   47 1984  395  258   36]\n",
      " [ 121   56  232 2362  176   53]\n",
      " [ 316   26  295  449 1835   79]\n",
      " [  18   62   29   65   98 2728]]\n"
     ]
    }
   ],
   "source": [
    "print(cn)"
   ]
  },
  {
   "cell_type": "code",
   "execution_count": 79,
   "metadata": {},
   "outputs": [
    {
     "data": {
      "image/png": "[encoded data removed]",
      "text/plain": [
       "<Figure size 432x288 with 2 Axes>"
      ]
     },
     "metadata": {
      "needs_background": "light"
     },
     "output_type": "display_data"
    }
   ],
   "source": [
    "import seaborn as sns\n",
    "import matplotlib.pyplot as plt \n",
    "ax= plt.subplot()\n",
    "sns.heatmap(cn, annot=True,fmt='g'); #annot=True to annotate cells\n",
    "\n",
    "# labels, title and ticks\n",
    "label_font = {'size':'18'}  # Adjust to fit\n",
    "ax.set_xlabel('Predicted labels', fontdict=label_font);\n",
    "ax.set_ylabel('True labels', fontdict=label_font);\n",
    "title_font = {'size':'18'}  # Adjust to fit\n",
    "ax.set_title('Confusion Matrix',fontdict=title_font); \n",
    "ax.tick_params(axis='both', which='major', labelsize=10)  # Adjust to fit\n",
    "ax.xaxis.set_ticklabels(['cloudy','haze','rainy','snow','sunny','thunder']); \n",
    "ax.yaxis.set_ticklabels(['thunder', 'sunny','snow','rainy','haze','cloudy']);"
   ]
  },
  {
   "cell_type": "code",
   "execution_count": 65,
   "metadata": {},
   "outputs": [],
   "source": [
    "from matplotlib import pyplot\n",
    "import seaborn"
   ]
  },
  {
   "cell_type": "markdown",
   "metadata": {},
   "source": [
    "## Demo "
   ]
  },
  {
   "cell_type": "code",
   "execution_count": 1,
   "metadata": {},
   "outputs": [
    {
     "name": "stderr",
     "output_type": "stream",
     "text": [
      "Using TensorFlow backend.\n"
     ]
    }
   ],
   "source": [
    "from keras.models import load_model"
   ]
  },
  {
   "cell_type": "code",
   "execution_count": 43,
   "metadata": {},
   "outputs": [
    {
     "name": "stderr",
     "output_type": "stream",
     "text": [
      "\n",
      "KeyboardInterrupt\n",
      "\n"
     ]
    }
   ],
   "source": [
    "model = load_model('cnn_rnn_68_model.hdf5')"
   ]
  },
  {
   "cell_type": "code",
   "execution_count": 29,
   "metadata": {},
   "outputs": [],
   "source": [
    "from keras.preprocessing import image\n",
    "from IPython.display import Image\n",
    "import numpy as np\n",
    "from keras.applications import imagenet_utils\n",
    "from keras.applications.resnet50 import decode_predictions"
   ]
  },
  {
   "cell_type": "code",
   "execution_count": 38,
   "metadata": {},
   "outputs": [],
   "source": [
    "import numpy as np \n",
    "import pandas as pd\n",
    "import os\n",
    "import json\n",
    "from tensorflow.python.keras.applications import ResNet50\n",
    "from tensorflow.python.keras.applications.resnet50 import preprocess_input\n",
    "from tensorflow.python.keras.preprocessing.image import load_img, img_to_array\n",
    "from IPython.display import Image, display"
   ]
  },
  {
   "cell_type": "code",
   "execution_count": 112,
   "metadata": {},
   "outputs": [
    {
     "data": {
      "image/jpeg": "[encoded data removed]",
      "text/plain": [
       "<IPython.core.display.Image object>"
      ]
     },
     "execution_count": 112,
     "metadata": {},
     "output_type": "execute_result"
    }
   ],
   "source": [
    "Image(filename='D:/200X200/sunny/sunny_00139.jpg')"
   ]
  },
  {
   "cell_type": "code",
   "execution_count": 65,
   "metadata": {},
   "outputs": [],
   "source": [
    "labels=[\"cloudy\", \"haze\", \"rainy\", \"snow\", \"sunny\", \"thunder\"]"
   ]
  },
  {
   "cell_type": "code",
   "execution_count": 111,
   "metadata": {},
   "outputs": [
    {
     "data": {
      "text/plain": [
       "array([[0.12269472, 0.00977912, 0.13139626, 0.07871139, 0.63892084,\n",
       "        0.01849771]], dtype=float32)"
      ]
     },
     "execution_count": 111,
     "metadata": {},
     "output_type": "execute_result"
    }
   ],
   "source": [
    "import numpy as np\n",
    "from keras.preprocessing import image\n",
    "\n",
    "img_width, img_height = 200,200\n",
    "img = image.load_img('D:/200X200/sunny/sunny_00139.jpg', target_size = (img_width, img_height))\n",
    "img = image.img_to_array(img)\n",
    "img = np.expand_dims(img, axis = 0)\n",
    "pred=model.predict(img)\n",
    "pred"
   ]
  },
  {
   "cell_type": "code",
   "execution_count": 114,
   "metadata": {},
   "outputs": [
    {
     "data": {
      "text/plain": [
       "'sunny'"
      ]
     },
     "execution_count": 114,
     "metadata": {},
     "output_type": "execute_result"
    }
   ],
   "source": [
    "labels[np.argmax(pred)]"
   ]
  },
  {
   "cell_type": "code",
   "execution_count": 113,
   "metadata": {},
   "outputs": [
    {
     "name": "stderr",
     "output_type": "stream",
     "text": [
      "C:\\Users\\deepchand\\Anaconda3\\lib\\site-packages\\ipykernel_launcher.py:8: MatplotlibDeprecationWarning: Non-1D inputs to pie() are currently squeeze()d, but this behavior is deprecated since 3.1 and will be removed in 3.3; pass a 1D array instead.\n",
      "  \n"
     ]
    },
    {
     "data": {
      "image/png": "[encoded data removed]",
      "text/plain": [
       "<Figure size 648x648 with 1 Axes>"
      ]
     },
     "metadata": {},
     "output_type": "display_data"
    }
   ],
   "source": [
    "# Pie chart, where the slices will be ordered and plotted counter-clockwise:\n",
    "labels = 'cloudy', 'haze', 'rainy', 'snow', 'sunny','thunder'\n",
    "sizes = pred\n",
    "explode = (0, 0, 0, 0,0.1,0)  # only \"explode\" the 2nd slice (i.e. 'Hogs')\n",
    "\n",
    "fig1, ax1 = plt.subplots(figsize=(9,9))\n",
    "ax1.pie(sizes, explode=explode, labels=labels, autopct='%1.1f%%',\n",
    "        shadow=True, startangle=90)\n",
    "ax1.axis('equal')  # Equal aspect ratio ensures that pie is drawn as a circle.\n",
    "\n",
    "plt.show()"
   ]
  }
 ],
 "metadata": {
  "kernelspec": {
   "display_name": "Python 3",
   "language": "python",
   "name": "python3"
  },
  "language_info": {
   "codemirror_mode": {
    "name": "ipython",
    "version": 3
   },
   "file_extension": ".py",
   "mimetype": "text/x-python",
   "name": "python",
   "nbconvert_exporter": "python",
   "pygments_lexer": "ipython3",
   "version": "3.7.4"
  }
 },
 "nbformat": 4,
 "nbformat_minor": 2
}
